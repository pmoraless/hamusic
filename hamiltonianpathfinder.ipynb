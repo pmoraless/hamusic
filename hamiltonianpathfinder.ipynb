{
 "cells": [
  {
   "cell_type": "code",
   "execution_count": null,
   "id": "4d2ad1a8",
   "metadata": {},
   "outputs": [],
   "source": [
    "\"\"\"\n",
    "Pseudocode\n",
    "\n",
    "path= []\n",
    "visited_vertices = [false, false, ....] #list of all N points, initialize as false as path path hasnt visited\n",
    "start = 0 #what vertex to start\n",
    "visited[start] = true\n",
    "add start to path\n",
    "\n",
    "def hamiltonian(path, v): #where v is the current selected vertex\n",
    "    if path.size() == N: #where N is number of total points\n",
    "        return true\n",
    "    for each adjacent_vertex of v:\n",
    "        if visited[av] == false:\n",
    "            visited[av] == true\n",
    "            add av to path\n",
    "            \n",
    "            if hamiltonian(path,av):\n",
    "                return true\n",
    "                \n",
    "            #backtracking (if it's surrounded by vertices that are already visited/in the path, go back and delete it, start from previous point)    \n",
    "            visited[av] = false\n",
    "            remove av from path\n",
    "    return false\n",
    "\n",
    "\"\"\""
   ]
  },
  {
   "cell_type": "code",
   "execution_count": 2,
   "id": "6b8c3bf2",
   "metadata": {},
   "outputs": [],
   "source": [
    "import networkx as nx\n",
    "import numpy as np"
   ]
  },
  {
   "cell_type": "code",
   "execution_count": 18,
   "id": "3ea6d253",
   "metadata": {},
   "outputs": [
    {
     "name": "stdout",
     "output_type": "stream",
     "text": [
      "[(0, 1), (0, 2), (0, 3), (1, 2), (1, 3), (2, 3)]\n",
      "[[0 1 1 1]\n",
      " [1 0 1 1]\n",
      " [1 1 0 1]\n",
      " [1 1 1 0]]\n",
      "[(0, 1), (0, 2), (0, 3), (1, 2), (1, 3), (2, 3)]\n"
     ]
    }
   ],
   "source": [
    "#graph construction from edges\n",
    "edges = [(0, 1), (0, 2), (0, 3), (1, 2), (1, 3), (2, 3)]\n",
    "G = nx.Graph(edges)\n",
    "print(G.edges())\n",
    "\n",
    "A = nx.adjacency_matrix(G)\n",
    "print(A.todense())\n",
    "\n",
    "#graph construction from adj matrix\n",
    "A = np.array([[0, 1, 1, 1], [1, 0, 1, 1],\n",
    "            [1, 1, 0, 1],[1, 1, 1, 0]])\n",
    "G = nx.from_numpy_matrix(A)\n",
    "print(G.edges())\n"
   ]
  },
  {
   "cell_type": "code",
   "execution_count": 30,
   "id": "8cd06f89",
   "metadata": {},
   "outputs": [],
   "source": [
    "def adjList(graph):\n",
    "    adjList = [[] for _ in range(graph.number_of_nodes())]\n",
    "    for (src, dest) in graph.edges():\n",
    "        adjList[src].append(dest)\n",
    "        adjList[dest].append(src)\n",
    "    return adjList"
   ]
  },
  {
   "cell_type": "code",
   "execution_count": 50,
   "id": "5d164aef",
   "metadata": {},
   "outputs": [
    {
     "name": "stdout",
     "output_type": "stream",
     "text": [
      "[[1, 2, 3], [0, 2, 3], [0, 1, 3], [0, 1, 2]]\n"
     ]
    }
   ],
   "source": [
    "print(adjList(G))"
   ]
  },
  {
   "cell_type": "code",
   "execution_count": 145,
   "id": "8039971c",
   "metadata": {},
   "outputs": [],
   "source": [
    "def hampath(graph, v, visited, path, c):\n",
    "    n = graph.number_of_nodes()\n",
    "    \n",
    "    if len(path) == n:\n",
    "        c.extend(path)\n",
    "#         print(path)\n",
    "        return\n",
    "    \n",
    "    adj_list = adjList(graph)\n",
    "    \n",
    "    for w in adj_list[v]:\n",
    "        if not visited[w]:\n",
    "            visited[w] = True\n",
    "            path.append(w)\n",
    "\n",
    "            hampath(graph, w, visited, path, c)\n",
    "\n",
    "            visited[w] = False\n",
    "            path.pop()"
   ]
  },
  {
   "cell_type": "code",
   "execution_count": 146,
   "id": "bcc58444",
   "metadata": {},
   "outputs": [
    {
     "name": "stdout",
     "output_type": "stream",
     "text": [
      "[[0, 1, 2, 3], [0, 1, 3, 2], [0, 2, 1, 3], [0, 2, 3, 1], [0, 3, 1, 2], [0, 3, 2, 1]]\n"
     ]
    }
   ],
   "source": [
    "#testing with start vertex of 0\n",
    "startV = 0\n",
    "path = [startV]\n",
    "c= []     \n",
    "\n",
    "visited = [False] * G.number_of_nodes()\n",
    "visited[startV] = True\n",
    "        \n",
    "hampath(G, startV, visited, path, c)\n",
    "\n",
    "#splitting c into groups of 4 (number of nodes G has)\n",
    "n=4\n",
    "final = [c[i * n:(i + 1) * n] for i in range((len(c) + n - 1) // n )]\n",
    "print(final)"
   ]
  },
  {
   "cell_type": "code",
   "execution_count": 154,
   "id": "2d2eacd8",
   "metadata": {},
   "outputs": [],
   "source": [
    "def findallHamPaths(graph):\n",
    "    n = graph.number_of_nodes()\n",
    "    allpaths = []\n",
    "    for startV in range(n):\n",
    "        path = [startV]\n",
    "        c = []\n",
    "        visited = [False] * n\n",
    "        visited[startV] = True\n",
    "        \n",
    "        hampath(graph, startV, visited, path, c)\n",
    "        final = [c[i * n:(i + 1) * n] for i in range((len(c) + n - 1) // n )]\n",
    "        allpaths.append(final)\n",
    "        allpathsflat = [item for sublist in allpaths for item in sublist]\n",
    "    return allpathsflat"
   ]
  },
  {
   "cell_type": "code",
   "execution_count": 158,
   "id": "816af8d6",
   "metadata": {},
   "outputs": [
    {
     "data": {
      "text/plain": [
       "[[0, 1, 2, 3],\n",
       " [0, 1, 3, 2],\n",
       " [0, 2, 1, 3],\n",
       " [0, 2, 3, 1],\n",
       " [0, 3, 1, 2],\n",
       " [0, 3, 2, 1],\n",
       " [1, 0, 2, 3],\n",
       " [1, 0, 3, 2],\n",
       " [1, 2, 0, 3],\n",
       " [1, 2, 3, 0],\n",
       " [1, 3, 0, 2],\n",
       " [1, 3, 2, 0],\n",
       " [2, 0, 1, 3],\n",
       " [2, 0, 3, 1],\n",
       " [2, 1, 0, 3],\n",
       " [2, 1, 3, 0],\n",
       " [2, 3, 0, 1],\n",
       " [2, 3, 1, 0],\n",
       " [3, 0, 1, 2],\n",
       " [3, 0, 2, 1],\n",
       " [3, 1, 0, 2],\n",
       " [3, 1, 2, 0],\n",
       " [3, 2, 0, 1],\n",
       " [3, 2, 1, 0]]"
      ]
     },
     "execution_count": 158,
     "metadata": {},
     "output_type": "execute_result"
    }
   ],
   "source": [
    "findallHamPaths(G)\n",
    "# print(len(findallHamPaths(G)))"
   ]
  },
  {
   "cell_type": "code",
   "execution_count": null,
   "id": "3d568e69",
   "metadata": {},
   "outputs": [],
   "source": []
  }
 ],
 "metadata": {
  "kernelspec": {
   "display_name": "Python 3",
   "language": "python",
   "name": "python3"
  },
  "language_info": {
   "codemirror_mode": {
    "name": "ipython",
    "version": 3
   },
   "file_extension": ".py",
   "mimetype": "text/x-python",
   "name": "python",
   "nbconvert_exporter": "python",
   "pygments_lexer": "ipython3",
   "version": "3.8.8"
  }
 },
 "nbformat": 4,
 "nbformat_minor": 5
}
